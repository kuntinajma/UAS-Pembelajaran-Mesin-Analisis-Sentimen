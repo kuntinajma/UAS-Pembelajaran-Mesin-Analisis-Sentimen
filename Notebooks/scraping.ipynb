{
  "cells": [
    {
      "cell_type": "markdown",
      "metadata": {
        "id": "85OA5HF8jOre"
      },
      "source": [
        "### Instalasi dan Import Library untuk Scraping"
      ]
    },
    {
      "cell_type": "markdown",
      "metadata": {},
      "source": [
        "Pada tahap ini, dilakukan instalasi library `google-play-scraper` yang digunakan untuk mengambil data ulasan dari aplikasi Android yang tersedia di Google Play Store. Setelah itu, dilakukan import library yang dibutuhkan, yaitu:\n",
        "\n",
        "- `pandas` untuk manipulasi dan penyimpanan data dalam bentuk DataFrame.\n",
        "- `reviews_all` dan `reviews` dari `google_play_scraper`, yang berfungsi untuk mengambil seluruh ulasan atau sebagian ulasan aplikasi dari Play Store.\n",
        "- `Sort` digunakan untuk mengatur urutan ulasan (misalnya berdasarkan ulasan terbaru atau ulasan dengan rating tertinggi)."
      ]
    },
    {
      "cell_type": "code",
      "execution_count": 3,
      "metadata": {
        "colab": {
          "base_uri": "https://localhost:8080/"
        },
        "id": "x6qXCjaAjKcE",
        "outputId": "2ca94208-74c5-4219-f04d-75fa48fbb9e0"
      },
      "outputs": [
        {
          "name": "stdout",
          "output_type": "stream",
          "text": [
            "Requirement already satisfied: google-play-scraper in c:\\users\\asus\\appdata\\local\\programs\\python\\python312\\lib\\site-packages (1.2.7)\n"
          ]
        }
      ],
      "source": [
        "# Instalasi library google-play-scraper\n",
        "!pip install google-play-scraper\n",
        "\n",
        "# Import library yang akan digunakan\n",
        "import pandas as pd\n",
        "from google_play_scraper import reviews_all, reviews, Sort"
      ]
    },
    {
      "cell_type": "markdown",
      "metadata": {
        "id": "vZYjNUsUjQdd"
      },
      "source": [
        "### Scraping Data Ulasan Aplikasi Grab"
      ]
    },
    {
      "cell_type": "markdown",
      "metadata": {
        "id": "jpenubqzjVwN"
      },
      "source": [
        "Tahapan ini digunakan untuk mengambil data ulasan dari aplikasi Grab yang tersedia di Google Play Store.  \n",
        "Proses ini dilakukan menggunakan fungsi `reviews` dari `google_play_scraper` dengan konfigurasi berikut:\n",
        "\n",
        "- `com.grabtaxi.passenger` adalah ID atau package name aplikasi Grab.\n",
        "- `lang='id'` menandakan bahwa ulasan yang diambil harus berbahasa Indonesia.\n",
        "- `country='id'` menunjukkan bahwa ulasan berasal dari pengguna di Indonesia.\n",
        "- `count=20000` menargetkan pengambilan maksimal 20.000 ulasan.\n",
        "- `sort=Sort.NEWEST` memastikan urutan ulasan diambil dari yang paling baru.\n",
        "\n",
        "Data hasil scraping dikonversi ke dalam bentuk DataFrame menggunakan `pandas`.  \n",
        "Kemudian hanya dua kolom yang diambil, yaitu:\n",
        "- `content`: berisi teks atau isi ulasan dari pengguna.\n",
        "- `score`: berisi nilai rating dari masing-masing ulasan.\n",
        "\n",
        "Data akhirnya disimpan dalam file CSV bernama `grab_reviews.csv` di dalam folder `Datasets`, yang diasumsikan berada satu tingkat di atas folder `Notebooks` tempat notebook ini dijalankan (`../Datasets/`)."
      ]
    },
    {
      "cell_type": "code",
      "execution_count": 6,
      "metadata": {
        "colab": {
          "base_uri": "https://localhost:8080/"
        },
        "id": "K_ZWas_RjX11",
        "outputId": "380efd4c-8940-401a-f80d-344aecbe29f9"
      },
      "outputs": [
        {
          "name": "stdout",
          "output_type": "stream",
          "text": [
            "Data successfully saved to ../Datasets/grab_reviews.csv\n"
          ]
        }
      ],
      "source": [
        "# Fungsi scraping ulasan aplikasi Grab dari Google Play Store\n",
        "def scraping():\n",
        "    # Mengambil data ulasan\n",
        "    app_reviews, _ = reviews(\n",
        "        'com.grabtaxi.passenger',  # ID aplikasi Grab\n",
        "        lang='id',                 # Bahasa Indonesia\n",
        "        country='id',              # Lokasi: Indonesia\n",
        "        count=20000,               # Jumlah maksimal ulasan\n",
        "        sort=Sort.NEWEST           # Urutan ulasan: terbaru\n",
        "    )\n",
        "\n",
        "    # Konversi hasil scraping ke DataFrame\n",
        "    df = pd.DataFrame(app_reviews)\n",
        "\n",
        "    # Ambil kolom isi ulasan dan rating\n",
        "    df = df[['content', 'score']]\n",
        "\n",
        "    # Simpan file CSV ke folder Datasets (path relatif dari folder Notebooks)\n",
        "    df.to_csv('../Datasets/grab_reviews.csv', index=False)\n",
        "    print(\"Data successfully saved to ../Datasets/grab_reviews.csv\")\n",
        "\n",
        "# Jalankan fungsi\n",
        "scraping()"
      ]
    }
  ],
  "metadata": {
    "colab": {
      "provenance": []
    },
    "kernelspec": {
      "display_name": "Python 3",
      "name": "python3"
    },
    "language_info": {
      "codemirror_mode": {
        "name": "ipython",
        "version": 3
      },
      "file_extension": ".py",
      "mimetype": "text/x-python",
      "name": "python",
      "nbconvert_exporter": "python",
      "pygments_lexer": "ipython3",
      "version": "3.12.7"
    }
  },
  "nbformat": 4,
  "nbformat_minor": 0
}

{
  "cells": [
    {
      "cell_type": "markdown",
      "metadata": {
        "id": "9amE2aotf0yu"
      },
      "source": [
        "### Instalasi dan Import Pustaka yang Dibutuhkan"
      ]
    },
    {
      "cell_type": "markdown",
      "metadata": {},
      "source": [
        "Tahap ini mencakup instalasi serta import pustaka yang dibutuhkan untuk proyek **komparasi algoritma ensemble** dalam klasifikasi teks.\n",
        "\n",
        "1. **Instalasi Eksternal**\n",
        "   - `Sastrawi` : Untuk *stopword removal* dan stemming bahasa Indonesia.\n",
        "   - `xgboost` : Untuk membangun model **Extreme Gradient Boosting**.\n",
        "   - `wordcloud` : Untuk membuat visualisasi awan kata.\n",
        "\n",
        "2. **Manipulasi Data dan Visualisasi**\n",
        "   - `pandas`, `numpy` : Untuk manipulasi data tabular dan numerik.\n",
        "   - `matplotlib.pyplot`, `seaborn` : Untuk visualisasi data.\n",
        "   - `WordCloud` : Untuk menampilkan kata-kata yang paling sering muncul.\n",
        "\n",
        "3. **Pemrosesan Teks**\n",
        "   - `re`, `string`, `json`, `requests`, `pickle` : Utilitas untuk pemrosesan teks, pengambilan data, dan penyimpanan.\n",
        "   - `nltk` : Untuk tokenisasi teks dan stopwords (bahasa Inggris).\n",
        "   - `Sastrawi.StopWordRemoverFactory`, `Sastrawi.StemmerFactory` : Untuk *stopword removal* dan stemming bahasa Indonesia.\n",
        "   - Dependensi NLTK (`punkt`, `stopwords`) diunduh untuk mendukung tokenisasi dan pengolahan teks.\n",
        "\n",
        "4. **Pembelajaran Mesin**\n",
        "   - `RandomForestClassifier`, `AdaBoostClassifier` : Model ensemble berbasis *bagging* dan *boosting*.\n",
        "   - `XGBClassifier` : Implementasi **Extreme Gradient Boosting**.\n",
        "   - `TfidfVectorizer` : Mengubah teks menjadi representasi numerik menggunakan *term frequency–inverse document frequency*.\n",
        "   - `train_test_split` : Membagi data menjadi set latih dan set uji.\n",
        "   - `SelectKBest`, `chi2` : Untuk seleksi fitur berbasis chi-square.\n",
        "   - `accuracy_score`, `precision_score`, `recall_score`, `f1_score`, `classification_report`, `confusion_matrix`, `roc_auc_score`, `roc_curve` : Metrik untuk evaluasi model.\n",
        "\n",
        "5. **Lain-lain**\n",
        "   - `warnings` : Untuk menyembunyikan peringatan selama proses eksekusi.\n",
        "\n",
        "Dengan pustaka ini, seluruh proses komparasi model ensemble untuk klasifikasi teks dapat dilakukan secara komprehensif dan terstruktur."
      ]
    },
    {
      "cell_type": "code",
      "execution_count": 42,
      "metadata": {
        "colab": {
          "base_uri": "https://localhost:8080/"
        },
        "id": "Ew0ezvKcfkZt",
        "outputId": "a0d9c5b7-017f-4e5f-ca01-7d47d5afa4bd"
      },
      "outputs": [
        {
          "name": "stdout",
          "output_type": "stream",
          "text": [
            "Requirement already satisfied: Sastrawi in c:\\users\\asus\\appdata\\local\\programs\\python\\python310\\lib\\site-packages (1.0.1)\n",
            "Requirement already satisfied: xgboost in c:\\users\\asus\\appdata\\local\\programs\\python\\python310\\lib\\site-packages (3.0.2)\n",
            "Requirement already satisfied: wordcloud in c:\\users\\asus\\appdata\\local\\programs\\python\\python310\\lib\\site-packages (1.9.4)\n",
            "Requirement already satisfied: nltk in c:\\users\\asus\\appdata\\local\\programs\\python\\python310\\lib\\site-packages (3.9.1)\n",
            "Requirement already satisfied: numpy in c:\\users\\asus\\appdata\\local\\programs\\python\\python310\\lib\\site-packages (from xgboost) (2.1.3)\n",
            "Requirement already satisfied: scipy in c:\\users\\asus\\appdata\\local\\programs\\python\\python310\\lib\\site-packages (from xgboost) (1.15.3)\n",
            "Requirement already satisfied: pillow in c:\\users\\asus\\appdata\\local\\programs\\python\\python310\\lib\\site-packages (from wordcloud) (11.2.1)\n",
            "Requirement already satisfied: matplotlib in c:\\users\\asus\\appdata\\local\\programs\\python\\python310\\lib\\site-packages (from wordcloud) (3.10.3)\n",
            "Requirement already satisfied: click in c:\\users\\asus\\appdata\\local\\programs\\python\\python310\\lib\\site-packages (from nltk) (8.2.1)\n",
            "Requirement already satisfied: joblib in c:\\users\\asus\\appdata\\local\\programs\\python\\python310\\lib\\site-packages (from nltk) (1.5.1)\n",
            "Requirement already satisfied: regex>=2021.8.3 in c:\\users\\asus\\appdata\\local\\programs\\python\\python310\\lib\\site-packages (from nltk) (2025.7.34)\n",
            "Requirement already satisfied: tqdm in c:\\users\\asus\\appdata\\local\\programs\\python\\python310\\lib\\site-packages (from nltk) (4.67.1)\n",
            "Requirement already satisfied: colorama in c:\\users\\asus\\appdata\\roaming\\python\\python310\\site-packages (from click->nltk) (0.4.6)\n",
            "Requirement already satisfied: contourpy>=1.0.1 in c:\\users\\asus\\appdata\\local\\programs\\python\\python310\\lib\\site-packages (from matplotlib->wordcloud) (1.3.2)\n",
            "Requirement already satisfied: cycler>=0.10 in c:\\users\\asus\\appdata\\local\\programs\\python\\python310\\lib\\site-packages (from matplotlib->wordcloud) (0.12.1)\n",
            "Requirement already satisfied: fonttools>=4.22.0 in c:\\users\\asus\\appdata\\local\\programs\\python\\python310\\lib\\site-packages (from matplotlib->wordcloud) (4.58.1)\n",
            "Requirement already satisfied: kiwisolver>=1.3.1 in c:\\users\\asus\\appdata\\local\\programs\\python\\python310\\lib\\site-packages (from matplotlib->wordcloud) (1.4.8)\n",
            "Requirement already satisfied: packaging>=20.0 in c:\\users\\asus\\appdata\\roaming\\python\\python310\\site-packages (from matplotlib->wordcloud) (25.0)\n",
            "Requirement already satisfied: pyparsing>=2.3.1 in c:\\users\\asus\\appdata\\local\\programs\\python\\python310\\lib\\site-packages (from matplotlib->wordcloud) (3.2.3)\n",
            "Requirement already satisfied: python-dateutil>=2.7 in c:\\users\\asus\\appdata\\roaming\\python\\python310\\site-packages (from matplotlib->wordcloud) (2.9.0.post0)\n",
            "Requirement already satisfied: six>=1.5 in c:\\users\\asus\\appdata\\roaming\\python\\python310\\site-packages (from python-dateutil>=2.7->matplotlib->wordcloud) (1.17.0)\n",
            "Note: you may need to restart the kernel to use updated packages.\n"
          ]
        },
        {
          "name": "stderr",
          "output_type": "stream",
          "text": [
            "\n",
            "[notice] A new release of pip is available: 25.1.1 -> 25.2\n",
            "[notice] To update, run: python.exe -m pip install --upgrade pip\n"
          ]
        },
        {
          "name": "stdout",
          "output_type": "stream",
          "text": [
            "Semua pustaka yang dibutuhkan untuk proyek komparasi ensemble berhasil di-import.\n"
          ]
        },
        {
          "name": "stderr",
          "output_type": "stream",
          "text": [
            "[nltk_data] Downloading package punkt to\n",
            "[nltk_data]     C:\\Users\\ASUS\\AppData\\Roaming\\nltk_data...\n",
            "[nltk_data]   Package punkt is already up-to-date!\n",
            "[nltk_data] Downloading package stopwords to\n",
            "[nltk_data]     C:\\Users\\ASUS\\AppData\\Roaming\\nltk_data...\n",
            "[nltk_data]   Package stopwords is already up-to-date!\n"
          ]
        }
      ],
      "source": [
        "# Instalasi pustaka yang dibutuhkan\n",
        "%pip install Sastrawi xgboost wordcloud nltk\n",
        "\n",
        "# Pustaka untuk manipulasi data dan visualisasi\n",
        "import pandas as pd\n",
        "import numpy as np\n",
        "import matplotlib.pyplot as plt\n",
        "import seaborn as sns\n",
        "from wordcloud import WordCloud\n",
        "\n",
        "# Pemrosesan teks\n",
        "import re\n",
        "import string\n",
        "import json\n",
        "import requests\n",
        "import pickle\n",
        "import time\n",
        "from nltk.tokenize import word_tokenize\n",
        "from nltk.corpus import stopwords\n",
        "from nltk import download as nltk_unduh\n",
        "from Sastrawi.StopWordRemover.StopWordRemoverFactory import StopWordRemoverFactory\n",
        "from Sastrawi.Stemmer.StemmerFactory import StemmerFactory\n",
        "\n",
        "# Mengunduh dependensi NLTK\n",
        "import ssl\n",
        "try:\n",
        "    _create_unverified_https_context = ssl._create_unverified_context\n",
        "except AttributeError:\n",
        "    pass\n",
        "else:\n",
        "    ssl._create_default_https_context = _create_unverified_https_context\n",
        "nltk_unduh('punkt')\n",
        "nltk_unduh('stopwords')\n",
        "\n",
        "# Pustaka untuk pembelajaran mesin\n",
        "from sklearn.ensemble import RandomForestClassifier, AdaBoostClassifier\n",
        "from xgboost import XGBClassifier\n",
        "from sklearn.feature_extraction.text import TfidfVectorizer\n",
        "from sklearn.model_selection import train_test_split\n",
        "from sklearn.feature_selection import SelectKBest, chi2\n",
        "from sklearn.metrics import accuracy_score, precision_score, recall_score, f1_score, classification_report, confusion_matrix, roc_auc_score, roc_curve # Metrik dilengkapi\n",
        "\n",
        "# Menonaktifkan peringatan sistem\n",
        "import warnings\n",
        "warnings.filterwarnings(\"ignore\")\n",
        "\n",
        "print(\"Semua pustaka yang dibutuhkan untuk proyek komparasi ensemble berhasil di-import.\")"
      ]
    },
    {
      "cell_type": "markdown",
      "metadata": {
        "id": "J7xHs47Yf5-3"
      },
      "source": [
        "### Memuat Dataset Ulasan Aplikasi Grab"
      ]
    },
    {
      "cell_type": "markdown",
      "metadata": {},
      "source": [
        "Pada tahap ini, dataset ulasan pengguna aplikasi Grab dimuat dari file CSV. Dataset ini sebelumnya telah diambil dari Google Play Store melalui proses scraping dan disimpan di folder `Datasets`.\n",
        "\n",
        "Dataset yang dimuat berisi dua kolom utama:\n",
        "- `content`: berisi teks ulasan dari pengguna.\n",
        "- `score`: berisi nilai rating yang diberikan pengguna terhadap aplikasi (biasanya antara 1–5).\n",
        "\n",
        "Setelah dimuat ke dalam variabel `data_frame`, beberapa baris pertama dari data ditampilkan untuk memberikan gambaran struktur dan isi dataset yang akan dianalisis."
      ]
    },
    {
      "cell_type": "code",
      "execution_count": 7,
      "metadata": {
        "colab": {
          "base_uri": "https://localhost:8080/",
          "height": 224
        },
        "id": "OX46M1MCfmoh",
        "outputId": "c33b9bd5-5702-4564-e053-fd930fcc8ca1"
      },
      "outputs": [
        {
          "name": "stdout",
          "output_type": "stream",
          "text": [
            "Contoh data ulasan:\n"
          ]
        },
        {
          "data": {
            "text/html": [
              "<div>\n",
              "<style scoped>\n",
              "    .dataframe tbody tr th:only-of-type {\n",
              "        vertical-align: middle;\n",
              "    }\n",
              "\n",
              "    .dataframe tbody tr th {\n",
              "        vertical-align: top;\n",
              "    }\n",
              "\n",
              "    .dataframe thead th {\n",
              "        text-align: right;\n",
              "    }\n",
              "</style>\n",
              "<table border=\"1\" class=\"dataframe\">\n",
              "  <thead>\n",
              "    <tr style=\"text-align: right;\">\n",
              "      <th></th>\n",
              "      <th>content</th>\n",
              "      <th>score</th>\n",
              "    </tr>\n",
              "  </thead>\n",
              "  <tbody>\n",
              "    <tr>\n",
              "      <th>0</th>\n",
              "      <td>kurang menarik karena brang saya ga di kembalikan</td>\n",
              "      <td>3</td>\n",
              "    </tr>\n",
              "    <tr>\n",
              "      <th>1</th>\n",
              "      <td>Thanks udah di anterin</td>\n",
              "      <td>5</td>\n",
              "    </tr>\n",
              "    <tr>\n",
              "      <th>2</th>\n",
              "      <td>Dengan adanya apk grab perjalan saya dgn tujua...</td>\n",
              "      <td>5</td>\n",
              "    </tr>\n",
              "    <tr>\n",
              "      <th>3</th>\n",
              "      <td>sangat membantu</td>\n",
              "      <td>5</td>\n",
              "    </tr>\n",
              "    <tr>\n",
              "      <th>4</th>\n",
              "      <td>bagus pelayanan beik dan cepat respon.</td>\n",
              "      <td>5</td>\n",
              "    </tr>\n",
              "  </tbody>\n",
              "</table>\n",
              "</div>"
            ],
            "text/plain": [
              "                                             content  score\n",
              "0  kurang menarik karena brang saya ga di kembalikan      3\n",
              "1                             Thanks udah di anterin      5\n",
              "2  Dengan adanya apk grab perjalan saya dgn tujua...      5\n",
              "3                                    sangat membantu      5\n",
              "4             bagus pelayanan beik dan cepat respon.      5"
            ]
          },
          "execution_count": 7,
          "metadata": {},
          "output_type": "execute_result"
        }
      ],
      "source": [
        "# Memuat dataset ulasan dari file CSV lokal\n",
        "file_path = \"../Datasets/grab_reviews.csv\"\n",
        "df = pd.read_csv(file_path)\n",
        "\n",
        "# Menampilkan beberapa baris awal dari dataset\n",
        "print(\"Contoh data ulasan:\")\n",
        "df.head()"
      ]
    },
    {
      "cell_type": "markdown",
      "metadata": {
        "id": "yWkJjroCf-cI"
      },
      "source": [
        "### Exploratory Data Analysis (EDA)\n",
        "\n"
      ]
    },
    {
      "cell_type": "markdown",
      "metadata": {},
      "source": [
        "#### Menampilkan Informasi Umum dan Pengecekan Data Kosong"
      ]
    },
    {
      "cell_type": "markdown",
      "metadata": {},
      "source": [
        "Tahapan ini bertujuan untuk memahami struktur dataset secara umum dan mengidentifikasi potensi masalah data seperti nilai yang hilang.\n",
        "\n",
        "Langkah-langkah yang dilakukan:\n",
        "1. **`df.info()`**: \n",
        "   - Menampilkan informasi struktur DataFrame, termasuk jumlah entri, jumlah kolom, tipe data pada setiap kolom, serta jumlah non-null pada masing-masing kolom.\n",
        "   - Berguna untuk memastikan bahwa dataset telah dimuat dengan benar dan kolom-kolom penting seperti `content` dan `score` tidak kosong.\n",
        "\n",
        "2. **`df.isnull().sum()`**:\n",
        "   - Mengecek apakah terdapat nilai kosong (missing values) pada dataset.\n",
        "   - Hal ini penting untuk memastikan kualitas data sebelum masuk ke tahap preprocessing dan pelatihan model.\n",
        "\n",
        "Dengan melakukan pengecekan ini sejak awal, kita bisa menghindari error saat pemrosesan data lanjutan atau pelatihan model."
      ]
    },
    {
      "cell_type": "code",
      "execution_count": 8,
      "metadata": {
        "colab": {
          "base_uri": "https://localhost:8080/"
        },
        "id": "tFwagfwhfqZo",
        "outputId": "eb8037e5-3da3-49d8-d64d-8f0bedc2d8db"
      },
      "outputs": [
        {
          "name": "stdout",
          "output_type": "stream",
          "text": [
            "<class 'pandas.core.frame.DataFrame'>\n",
            "RangeIndex: 20000 entries, 0 to 19999\n",
            "Data columns (total 2 columns):\n",
            " #   Column   Non-Null Count  Dtype \n",
            "---  ------   --------------  ----- \n",
            " 0   content  20000 non-null  object\n",
            " 1   score    20000 non-null  int64 \n",
            "dtypes: int64(1), object(1)\n",
            "memory usage: 312.6+ KB\n",
            "Nilai yang hilang:\n",
            "content    0\n",
            "score      0\n",
            "dtype: int64\n"
          ]
        }
      ],
      "source": [
        "# Menampilkan informasi dasar dari dataset\n",
        "df.info()\n",
        "\n",
        "# Mengecek apakah ada nilai kosong di setiap kolom\n",
        "print(\"Nilai yang hilang:\")\n",
        "print(df.isnull().sum())"
      ]
    },
    {
      "cell_type": "markdown",
      "metadata": {
        "id": "iV-MdpPWgJyY"
      },
      "source": [
        "#### Visualisasi Distribusi Rating Ulasan"
      ]
    },
    {
      "cell_type": "markdown",
      "metadata": {},
      "source": [
        "Tahapan ini bertujuan untuk memahami sebaran sentimen pengguna terhadap aplikasi Grab berdasarkan nilai rating (1 hingga 5).\n",
        "\n",
        "Langkah-langkah yang dilakukan:\n",
        "1. **Visualisasi dengan `countplot`**:\n",
        "   - Menggunakan `seaborn.countplot()` untuk menampilkan grafik batang yang menunjukkan jumlah ulasan untuk setiap kategori skor.\n",
        "   - Warna grafik diatur menggunakan palet `viridis` agar tampil lebih informatif dan menarik.\n",
        "\n",
        "2. **`value_counts()`**:\n",
        "   - Menampilkan jumlah absolut dari masing-masing skor (1, 2, 3, 4, 5).\n",
        "   - Ini membantu mengidentifikasi apakah dataset seimbang (balanced) atau tidak (unbalanced), yang akan sangat memengaruhi kinerja model klasifikasi nantinya.\n",
        "\n",
        "Distribusi rating sangat penting sebagai dasar pengkategorian sentimen (positif, negatif, netral) dan dapat digunakan untuk menetapkan label kelas pada proses supervised learning."
      ]
    },
    {
      "cell_type": "code",
      "execution_count": 9,
      "metadata": {
        "colab": {
          "base_uri": "https://localhost:8080/",
          "height": 531
        },
        "id": "E0OzHSELgMMR",
        "outputId": "a2b54f2a-f888-4a94-ea13-62bb43296cb1"
      },
      "outputs": [
        {
          "data": {
            "image/png": "[encoded data removed]",
            "text/plain": [
              "<Figure size 600x400 with 1 Axes>"
            ]
          },
          "metadata": {},
          "output_type": "display_data"
        },
        {
          "name": "stdout",
          "output_type": "stream",
          "text": [
            "score\n",
            "5    14420\n",
            "1     3307\n",
            "4     1040\n",
            "3      652\n",
            "2      581\n",
            "Name: count, dtype: int64\n"
          ]
        }
      ],
      "source": [
        "# Visualisasi distribusi rating pengguna terhadap aplikasi Grab\n",
        "plt.figure(figsize=(6, 4))\n",
        "sns.countplot(x=df['score'], palette='viridis')\n",
        "plt.title(\"Distribusi Sentimen\")\n",
        "plt.xlabel(\"Rating\")\n",
        "plt.ylabel(\"Jumlah\")\n",
        "plt.show()\n",
        "\n",
        "# Menampilkan jumlah ulasan berdasarkan masing-masing skor\n",
        "print(df['score'].value_counts())"
      ]
    },
    {
      "cell_type": "markdown",
      "metadata": {
        "id": "P3d4rOhigOww"
      },
      "source": [
        "### Data Preprocessing\n",
        "\n",
        "\n"
      ]
    },
    {
      "cell_type": "markdown",
      "metadata": {},
      "source": [
        "#### Fungsi Pembersihan Teks Ulasan"
      ]
    },
    {
      "cell_type": "markdown",
      "metadata": {},
      "source": [
        "Tahapan ini merupakan bagian awal dari proses **preprocessing teks**. Tujuannya adalah membersihkan teks ulasan agar lebih seragam dan siap digunakan dalam analisis sentimen atau pemodelan machine learning.\n",
        "\n",
        "Fungsi `proses_teks(teks)` akan melakukan langkah-langkah berikut:\n",
        "\n",
        "1. **Menghapus mention** – karakter seperti `@username` dihilangkan karena tidak relevan untuk analisis sentimen.\n",
        "2. **Menghapus hashtag** – seperti `#promo`, yang biasanya digunakan untuk tren, juga tidak memberi nilai tambah dalam analisis.\n",
        "3. **Menghapus karakter khusus tertentu** – contohnya karakter seperti `²` yang terkadang muncul dari kesalahan ketik atau encoding.\n",
        "4. **Menghapus angka** – karena dalam banyak kasus, angka tidak memberikan konteks sentimen secara langsung.\n",
        "5. **Menghapus tanda baca** – agar hasil tokenisasi nanti lebih bersih dan seragam.\n",
        "6. **Menghapus spasi di awal/akhir** – untuk merapikan hasil pembersihan.\n",
        "7. **Mengubah teks menjadi huruf kecil semua** – agar tidak ada perbedaan makna antara kata seperti \"Bagus\" dan \"bagus\".\n",
        "\n",
        "Fungsi ini akan menjadi dasar dalam tahap selanjutnya seperti tokenisasi, stopword removal, dan pelabelan sentimen."
      ]
    },
    {
      "cell_type": "code",
      "execution_count": 10,
      "metadata": {
        "id": "pcIXW4BXgf_3"
      },
      "outputs": [],
      "source": [
        "# Fungsi untuk membersihkan teks ulasan aplikasi\n",
        "def proses_teks(teks):\n",
        "    teks = re.sub(r'@[A-Za-z0-9_]+', '', teks)       # Menghapus mention (@username)\n",
        "    teks = re.sub(r'#[A-Za-z0-9_]+', '', teks)       # Menghapus hashtag (#hashtag)\n",
        "    teks = re.sub(r'[²]', ' ', teks)                 # Menghapus karakter khusus tertentu\n",
        "    teks = re.sub(r'\\d+', ' ', teks)                 # Menghapus angka\n",
        "    teks = re.sub(r'[^\\w\\s]', ' ', teks)             # Menghapus tanda baca\n",
        "    teks = teks.strip()                              # Menghapus spasi ekstra\n",
        "    teks = teks.lower()                              # Konversi ke huruf kecil\n",
        "    return teks"
      ]
    },
    {
      "cell_type": "markdown",
      "metadata": {
        "id": "iWwR4oC_gi5b"
      },
      "source": [
        "#### Fungsi Tokenisasi Teks"
      ]
    },
    {
      "cell_type": "markdown",
      "metadata": {},
      "source": [
        "Tokenisasi adalah proses memecah teks ulasan menjadi unit-unit kata yang disebut token. Tahapan ini sangat penting dalam analisis sentimen karena model pembelajaran mesin memproses teks dalam bentuk token, bukan dalam kalimat utuh.\n",
        "\n",
        "Penjelasan fungsi `tokenisasi_teks(teks)`:\n",
        "- Menggunakan `word_tokenize()` dari pustaka NLTK.\n",
        "- Fungsi ini akan menerima sebuah teks ulasan (yang sudah dibersihkan), lalu mengubahnya menjadi list dari kata-kata individual.\n",
        "- Contoh: `'layanan sangat cepat dan memuaskan'` akan menjadi `['layanan', 'sangat', 'cepat', 'dan', 'memuaskan']`.\n",
        "\n",
        "Langkah ini penting sebelum menghilangkan stopword atau melakukan proses pembobotan seperti TF-IDF atau word embedding."
      ]
    },
    {
      "cell_type": "code",
      "execution_count": 11,
      "metadata": {
        "id": "jm5IAocOgl-D"
      },
      "outputs": [],
      "source": [
        "# Fungsi untuk memecah teks menjadi kata-kata (token)\n",
        "def tokenisasi_teks(teks):\n",
        "    teks = word_tokenize(teks)  # Mengubah teks menjadi list token\n",
        "    return teks"
      ]
    },
    {
      "cell_type": "markdown",
      "metadata": {
        "id": "MQuL3aq7got_"
      },
      "source": [
        "#### Fungsi Penghapusan Stopwords"
      ]
    },
    {
      "cell_type": "markdown",
      "metadata": {},
      "source": [
        "Setelah teks di-tokenisasi, langkah selanjutnya adalah **menghapus stopwords**, yaitu kata-kata umum yang tidak membawa makna penting dalam analisis sentimen. Contohnya seperti: *\"dan\"*, *\"itu\"*, *\"yang\"*.\n",
        "\n",
        "Fungsi `filter_stopwords(teks)` akan:\n",
        "1. Memuat daftar stopwords dari Bahasa Indonesia dan Bahasa Inggris menggunakan pustaka `nltk`.\n",
        "2. Menggabungkan kedua daftar stopwords tersebut agar dapat menangani teks yang menggunakan campuran dua bahasa (umum terjadi pada ulasan aplikasi).\n",
        "3. Menambahkan daftar stopwords kustom seperti `'iyaa'`, `'gak'`, `'loh'`, `'woy'`, dll, yang sering muncul dalam percakapan informal namun tidak signifikan untuk analisis sentimen.\n",
        "4. Memfilter kata-kata yang termasuk stopwords dari list token.\n",
        "\n",
        "Contoh:\n",
        "- Input: `['pelayanan', 'nya', 'bagus', 'banget']`\n",
        "- Output: `['pelayanan', 'bagus', 'banget']`\n",
        "\n",
        "Langkah ini penting untuk menjaga hanya kata-kata bermakna yang digunakan dalam pemodelan."
      ]
    },
    {
      "cell_type": "code",
      "execution_count": 12,
      "metadata": {
        "id": "H_olIc7-gshY"
      },
      "outputs": [],
      "source": [
        "# Fungsi untuk menghapus stopwords dari list token\n",
        "def filter_stopwords(teks):\n",
        "    # Memuat stopwords Bahasa Indonesia dan Inggris\n",
        "    daftar_stopwords = set(stopwords.words('indonesian'))\n",
        "    daftar_stopwords_english = set(stopwords.words('english'))\n",
        "\n",
        "    # Menggabungkan stopwords Bahasa Indonesia dan Inggris\n",
        "    daftar_stopwords.update(daftar_stopwords_english)\n",
        "\n",
        "    # Menambahkan stopwords tambahan (umum dalam bahasa informal)\n",
        "    daftar_stopwords.update([\n",
        "        'iya', 'yaa', 'gak', 'nya', 'na', 'sih', 'ku',\n",
        "        'di', 'ga', 'ya', 'gaa', 'loh', 'kah', 'woi', 'woii', 'woy'\n",
        "    ])\n",
        "\n",
        "    # Memfilter token yang bukan stopwords\n",
        "    hasil_filter = [kata for kata in teks if kata not in daftar_stopwords]\n",
        "\n",
        "    return hasil_filter"
      ]
    },
    {
      "cell_type": "markdown",
      "metadata": {
        "id": "UrrHMRTDgt_f"
      },
      "source": [
        "#### Pemrosesan Kata Slang (Bahasa Gaul)"
      ]
    },
    {
      "cell_type": "markdown",
      "metadata": {},
      "source": [
        "Ulasan pengguna sering kali mengandung **kata slang** atau bahasa gaul yang tidak baku, misalnya:\n",
        "- `\"gk\"` untuk `\"nggak\"`\n",
        "- `\"bgt\"` untuk `\"banget\"`\n",
        "\n",
        "Kata-kata ini perlu dikonversi ke bentuk baku agar model lebih mudah memahami makna sebenarnya dan meningkatkan akurasi analisis.\n",
        "\n",
        "**Tahap yang dilakukan:**\n",
        "1. **Memuat kamus slang**  \n",
        "   - Kamus slang disimpan dalam file `slangwords.json` yang berasal dari repositori GitHub:  \n",
        "     [slangwords.json – GitHub](https://raw.githubusercontent.com/azzhrdania/Proyek-Analisis-Sentimen-Gojek/refs/heads/main/Datasets/slangwords.json)  \n",
        "   - File ini berisi pasangan *key-value* di mana *key* adalah kata slang dan *value* adalah bentuk bakunya.\n",
        "   - Pada implementasi ini, file disimpan secara lokal di folder `../Datasets/`.\n",
        "\n",
        "2. **Mengganti kata slang dengan kata baku**  \n",
        "   - Fungsi `perbaiki_kata_slang(teks)` akan:\n",
        "     - Memecah teks menjadi kata per kata.\n",
        "     - Mengecek setiap kata terhadap kamus slang.\n",
        "     - Mengganti kata slang dengan bentuk baku jika ditemukan.\n",
        "   - Proses ini menghasilkan teks yang lebih seragam dan siap untuk tahap pra-pemrosesan selanjutnya.\n",
        "\n",
        "**Contoh:**\n",
        "- Input: `\"aplikasinya bgt bagus\"`\n",
        "- Output: `\"aplikasinya banget bagus\"`"
      ]
    },
    {
      "cell_type": "code",
      "execution_count": 20,
      "metadata": {
        "id": "t3sIhqCygwSg"
      },
      "outputs": [],
      "source": [
        "# Path ke file lokal\n",
        "path_slang = \"../Datasets/slangwords.json\"\n",
        "\n",
        "# Membaca file JSON ke dalam dictionary\n",
        "with open(path_slang, \"r\", encoding=\"utf-8\") as f:\n",
        "    kata_slang = json.load(f)\n",
        "\n",
        "# Contoh fungsi mengganti kata slang dengan kata baku\n",
        "def perbaiki_kata_slang(teks):\n",
        "    kata_kata = teks.split()\n",
        "    kata_diperbaiki = [\n",
        "        kata_slang.get(kata.lower(), kata) for kata in kata_kata\n",
        "    ]\n",
        "    return ' '.join(kata_diperbaiki)"
      ]
    },
    {
      "cell_type": "markdown",
      "metadata": {
        "id": "0FyyzJiNg0bd"
      },
      "source": [
        "#### Pipeline Pembersihan dan Normalisasi Teks"
      ]
    },
    {
      "cell_type": "markdown",
      "metadata": {},
      "source": [
        "Tahapan ini menggabungkan seluruh fungsi preprocessing menjadi satu rangkaian pipeline untuk membersihkan teks ulasan secara komprehensif. Proses ini sangat penting dalam analisis sentimen karena akan meningkatkan akurasi model dalam memahami makna sebenarnya dari teks.\n",
        "\n",
        "Berikut langkah-langkah yang dilakukan:\n",
        "\n",
        "1. **Pembersihan dasar teks (`clean_text`)**: Menghapus mention, hashtag, angka, dan tanda baca. Juga mengubah teks menjadi huruf kecil.\n",
        "2. **Normalisasi slang (`text_slangwords`)**: Mengganti kata-kata tidak baku (slang) menjadi bentuk formal sesuai kamus slang.\n",
        "3. **Tokenisasi (`text_tokenizing`)**: Memecah teks menjadi kata-kata individual.\n",
        "4. **Stopword Removal (`text_stopword`)**: Menghapus kata-kata umum yang tidak mengandung makna penting, baik dalam Bahasa Indonesia maupun Inggris.\n",
        "5. **Penggabungan kembali (`clean_content`)**: Menggabungkan kata-kata hasil filter menjadi satu kalimat bersih yang siap digunakan untuk analisis sentimen.\n",
        "\n",
        "Kolom akhir yang digunakan dalam proses pelabelan atau model training nantinya adalah `clean_content`."
      ]
    },
    {
      "cell_type": "code",
      "execution_count": null,
      "metadata": {
        "id": "hET4kEKBg44Q"
      },
      "outputs": [],
      "source": [
        "# Menggabungkan daftar token menjadi satu kalimat\n",
        "def gabungkan_ke_kalimat(tokens):\n",
        "    return ' '.join(tokens)\n",
        "\n",
        "# Bersihkan teks dan simpan hasilnya di kolom 'clean_text'\n",
        "df['clean_text'] = df['content'].apply(proses_teks) # Changed 'bersihkan_teks' to 'proses_teks'\n",
        "\n",
        "# Ganti kata slang dengan kata standar dan simpan di 'text_slangwords'\n",
        "df['text_slangwords'] = df['clean_text'].apply(perbaiki_kata_slang)\n",
        "\n",
        "# Tokenisasi teks (pisah menjadi kata-kata) dan simpan di 'text_tokenizing'\n",
        "df['text_tokenizing'] = df['text_slangwords'].apply(tokenisasi_teks)\n",
        "\n",
        "# Hapus stopwords (kata umum) dan simpan hasilnya di 'text_stopword'\n",
        "df['text_stopword'] = df['text_tokenizing'].apply(filter_stopwords)\n",
        "\n",
        "# Gabungkan token menjadi kalimat dan simpan di 'clean_content'\n",
        "df['clean_content'] = df['text_stopword'].apply(gabungkan_ke_kalimat)"
      ]
    },
    {
      "cell_type": "markdown",
      "metadata": {
        "id": "BYah6B0Gg8Jf"
      },
      "source": [
        "#### Pembuatan Label Sentimen Awal"
      ]
    },
    {
      "cell_type": "markdown",
      "metadata": {},
      "source": [
        "Tahap ini bertujuan untuk menyiapkan kolom label sentimen yang akan digunakan pada proses klasifikasi.\n",
        "\n",
        "**Langkah-langkah:**\n",
        "1. **Membuat kolom `sentiment`**\n",
        "   - Ulasan dengan `score` > 3 dilabeli **positif**.\n",
        "   - Ulasan dengan `score` ≤ 3 dilabeli **negatif**.\n",
        "\n",
        "2. **Menghapus ulasan netral**\n",
        "   - Ulasan dengan `score` = 3 dianggap netral dan dihapus dari dataset.\n",
        "   - Tujuannya adalah untuk membentuk klasifikasi biner (positif vs negatif) yang lebih jelas dan seimbang.\n",
        "\n",
        "3. **Pemeriksaan hasil**\n",
        "   - Menampilkan jumlah data sebelum dan sesudah penghapusan rating 3.\n",
        "   - Menampilkan distribusi jumlah data per kategori sentimen.\n",
        "   - Menampilkan contoh data untuk verifikasi.\n",
        "\n",
        "**Contoh:**\n",
        "- Input skor: `4` → Label: `positif`\n",
        "- Input skor: `2` → Label: `negatif`\n",
        "- Input skor: `3` → Dihapus dari dataset"
      ]
    },
    {
      "cell_type": "code",
      "execution_count": 24,
      "metadata": {
        "colab": {
          "base_uri": "https://localhost:8080/"
        },
        "id": "FCZ3JdfbhDUH",
        "outputId": "4f14d0b3-c3cd-4a99-964b-3eac3ac7b8a9"
      },
      "outputs": [
        {
          "name": "stdout",
          "output_type": "stream",
          "text": [
            "Jumlah data sebelum menghapus rating 3: 20000\n",
            "Jumlah data setelah menghapus rating 3: 19348\n",
            "\n",
            "Distribusi sentimen akhir untuk klasifikasi biner:\n",
            "sentiment\n",
            "positif    15460\n",
            "negatif     3888\n",
            "Name: count, dtype: int64\n"
          ]
        },
        {
          "data": {
            "text/html": [
              "<div>\n",
              "<style scoped>\n",
              "    .dataframe tbody tr th:only-of-type {\n",
              "        vertical-align: middle;\n",
              "    }\n",
              "\n",
              "    .dataframe tbody tr th {\n",
              "        vertical-align: top;\n",
              "    }\n",
              "\n",
              "    .dataframe thead th {\n",
              "        text-align: right;\n",
              "    }\n",
              "</style>\n",
              "<table border=\"1\" class=\"dataframe\">\n",
              "  <thead>\n",
              "    <tr style=\"text-align: right;\">\n",
              "      <th></th>\n",
              "      <th>score</th>\n",
              "      <th>sentiment</th>\n",
              "    </tr>\n",
              "  </thead>\n",
              "  <tbody>\n",
              "    <tr>\n",
              "      <th>1</th>\n",
              "      <td>5</td>\n",
              "      <td>positif</td>\n",
              "    </tr>\n",
              "    <tr>\n",
              "      <th>2</th>\n",
              "      <td>5</td>\n",
              "      <td>positif</td>\n",
              "    </tr>\n",
              "    <tr>\n",
              "      <th>3</th>\n",
              "      <td>5</td>\n",
              "      <td>positif</td>\n",
              "    </tr>\n",
              "    <tr>\n",
              "      <th>4</th>\n",
              "      <td>5</td>\n",
              "      <td>positif</td>\n",
              "    </tr>\n",
              "    <tr>\n",
              "      <th>6</th>\n",
              "      <td>2</td>\n",
              "      <td>negatif</td>\n",
              "    </tr>\n",
              "  </tbody>\n",
              "</table>\n",
              "</div>"
            ],
            "text/plain": [
              "   score sentiment\n",
              "1      5   positif\n",
              "2      5   positif\n",
              "3      5   positif\n",
              "4      5   positif\n",
              "6      2   negatif"
            ]
          },
          "metadata": {},
          "output_type": "display_data"
        }
      ],
      "source": [
        "# Membuat kolom sentimen awal\n",
        "# Ulasan dengan score > 3 dilabeli 'positif', sisanya 'negatif'\n",
        "df['sentiment'] = np.where(df['score'] > 3, 'positif', 'negatif')\n",
        "\n",
        "# Menghapus ulasan dengan score 3 (netral) sesuai permintaan\n",
        "# Ini akan membuat perbedaan antara kelas positif dan negatif lebih jelas untuk model\n",
        "print(f\"Jumlah data sebelum menghapus rating 3: {len(df)}\")\n",
        "df = df[df['score'] != 3].copy()\n",
        "print(f\"Jumlah data setelah menghapus rating 3: {len(df)}\")\n",
        "\n",
        "# Menampilkan jumlah masing-masing kategori sentimen yang baru (setelah penghapusan)\n",
        "print(\"\\nDistribusi sentimen akhir untuk klasifikasi biner:\")\n",
        "print(df['sentiment'].value_counts())\n",
        "\n",
        "# Menampilkan beberapa baris untuk verifikasi\n",
        "display(df[['score', 'sentiment']].head())"
      ]
    },
    {
      "cell_type": "markdown",
      "metadata": {
        "id": "-7ZlgN7WhHq3"
      },
      "source": [
        "#### Visualisasi Distribusi Sentimen Ulasan Grab"
      ]
    },
    {
      "cell_type": "markdown",
      "metadata": {},
      "source": [
        "Menampilkan diagram pai distribusi ulasan positif dan negatif setelah ulasan netral dihapus, untuk memeriksa proporsi kelas."
      ]
    },
    {
      "cell_type": "code",
      "execution_count": 29,
      "metadata": {
        "colab": {
          "base_uri": "https://localhost:8080/",
          "height": 675
        },
        "id": "Wru694SWhNKI",
        "outputId": "cbdf7acf-722b-4846-9111-34302ceefe31"
      },
      "outputs": [
        {
          "data": {
            "image/png": "[encoded data removed]",
            "text/plain": [
              "<Figure size 300x300 with 1 Axes>"
            ]
          },
          "metadata": {},
          "output_type": "display_data"
        }
      ],
      "source": [
        "# Hitung jumlah setiap kategori sentimen (sekarang hanya positif dan negatif)\n",
        "jumlah_sentimen = df['sentiment'].value_counts()\n",
        "\n",
        "# Tampilkan diagram pai untuk distribusi sentimen yang baru\n",
        "plt.figure(figsize=(3, 3))\n",
        "plt.pie(jumlah_sentimen,\n",
        "        labels=jumlah_sentimen.index,\n",
        "        autopct='%1.1f%%',\n",
        "        startangle=140,\n",
        "        colors=sns.color_palette(\"Set2\"))\n",
        "plt.title('Distribusi Sentimen Akhir (Positif vs. Negatif)')\n",
        "plt.axis('equal')\n",
        "plt.show()"
      ]
    },
    {
      "cell_type": "markdown",
      "metadata": {
        "id": "WQygFYlThiOH"
      },
      "source": [
        "#### Pemisahan Fitur dan Label"
      ]
    },
    {
      "cell_type": "markdown",
      "metadata": {},
      "source": [
        "Tahap ini memisahkan data menjadi **fitur (X)** dan **label (y)** yang akan digunakan untuk pelatihan model klasifikasi.\n",
        "\n",
        "**Langkah-langkah:**\n",
        "1. **Fitur (`X`)**\n",
        "   - Diambil dari kolom `clean_content`, yaitu teks ulasan yang sudah melalui tahap pembersihan (preprocessing).\n",
        "\n",
        "2. **Label (`y`)**\n",
        "   - Diambil dari kolom `sentiment`.\n",
        "   - Dikodekan menjadi nilai numerik:\n",
        "     - `positif` → `1`\n",
        "     - `negatif` → `0`\n",
        "   - Karena data netral sudah dihapus sebelumnya, hanya dua kelas ini yang perlu dipetakan.\n",
        "\n",
        "3. **Verifikasi**\n",
        "   - Menampilkan beberapa contoh nilai `X` dan `y` untuk memastikan pemisahan dan pengkodean label sudah benar.\n",
        "\n",
        "Proses ini memastikan data siap digunakan pada tahap vektorisasi teks dan pelatihan model."
      ]
    },
    {
      "cell_type": "code",
      "execution_count": 30,
      "metadata": {
        "id": "jMkGExghhlqz"
      },
      "outputs": [
        {
          "name": "stdout",
          "output_type": "stream",
          "text": [
            "Contoh Fitur (X):\n",
            "1                                  thanks udah anterin\n",
            "2    apk grab perjalan dgn tujuan kemanapun mudah n...\n",
            "3                                             membantu\n",
            "4                    bagus pelayanan beik cepat respon\n",
            "6                                     kaya gojek error\n",
            "Name: clean_content, dtype: object\n",
            "\n",
            "Contoh Label (y) yang sudah di-encode:\n",
            "1    1\n",
            "2    1\n",
            "3    1\n",
            "4    1\n",
            "6    0\n",
            "Name: sentiment, dtype: int64\n"
          ]
        }
      ],
      "source": [
        "# Fitur (X) diambil dari teks yang sudah bersih\n",
        "fitur = df['clean_content']\n",
        "\n",
        "# Label (y) diambil dari kolom sentimen dan diubah menjadi numerik (1 untuk positif, 0 untuk negatif)\n",
        "# Karena data 'netral' sudah dihapus, kita hanya perlu memetakan dua kelas ini.\n",
        "label = df['sentiment'].map({'positif': 1, 'negatif': 0})\n",
        "\n",
        "# Menampilkan beberapa baris untuk verifikasi\n",
        "print(\"Contoh Fitur (X):\")\n",
        "print(fitur.head())\n",
        "print(\"\\nContoh Label (y) yang sudah di-encode:\")\n",
        "print(label.head())"
      ]
    },
    {
      "cell_type": "markdown",
      "metadata": {
        "id": "Uf9osp69hm9D"
      },
      "source": [
        "#### Feature Engineering\n",
        "\n"
      ]
    },
    {
      "cell_type": "markdown",
      "metadata": {},
      "source": [
        "#### Vektorisasi Teks Menggunakan TF-IDF"
      ]
    },
    {
      "cell_type": "markdown",
      "metadata": {},
      "source": [
        "Sebelum melatih model machine learning, teks perlu diubah ke bentuk numerik. Di tahap ini, kita gunakan TF-IDF (Term Frequency-Inverse Document Frequency) untuk mengonversi teks menjadi representasi vektor. Ini membantu model mengenali kata-kata yang penting dan membedakan dokumen satu dengan lainnya. Kita batasi hingga 10.000 fitur untuk menjaga efisiensi dan menghindari noise."
      ]
    },
    {
      "cell_type": "code",
      "execution_count": 31,
      "metadata": {
        "colab": {
          "base_uri": "https://localhost:8080/"
        },
        "id": "wzaU9IqChsmH",
        "outputId": "f1c29a3f-3c1f-4917-e65f-0362ece60d25"
      },
      "outputs": [
        {
          "name": "stdout",
          "output_type": "stream",
          "text": [
            "Ringkasan Fitur dan Data:\n",
            "Dimensi fitur TF-IDF: (19348, 9057)\n"
          ]
        }
      ],
      "source": [
        "# Transformasi teks ke vektor angka menggunakan TF-IDF\n",
        "tfidf = TfidfVectorizer(max_features=10000)\n",
        "fitur_tfidf = tfidf.fit_transform(fitur)\n",
        "\n",
        "# Menampilkan dimensi data hasil vektorisasi\n",
        "print(\"Ringkasan Fitur dan Data:\")\n",
        "print(f\"Dimensi fitur TF-IDF: {fitur_tfidf.shape}\")"
      ]
    },
    {
      "cell_type": "markdown",
      "metadata": {},
      "source": [
        "#### Train-Test Split"
      ]
    },
    {
      "cell_type": "markdown",
      "metadata": {},
      "source": [
        "Membagi data menjadi 80% latih dan 20% uji dengan stratifikasi label untuk menjaga proporsi kelas, serta `random_state=42` agar hasil konsisten."
      ]
    },
    {
      "cell_type": "code",
      "execution_count": 32,
      "metadata": {},
      "outputs": [
        {
          "name": "stdout",
          "output_type": "stream",
          "text": [
            "--- HASIL PEMBAGIAN DATA ---\n",
            "Jumlah Sampel Data Latih (X_train): 15478\n",
            "Jumlah Sampel Data Uji (X_test):   3870\n",
            "Jumlah Label Data Latih (y_train): 15478\n",
            "Jumlah Label Data Uji (y_test):   3870\n"
          ]
        }
      ],
      "source": [
        "# --- Pembagian Data (Train-Test Split) ---\n",
        "X_train, X_test, y_train, y_test = train_test_split(\n",
        "    fitur_tfidf,\n",
        "    label,\n",
        "    test_size=0.2,\n",
        "    random_state=42,\n",
        "    stratify=label\n",
        ")\n",
        "\n",
        "# Menampilkan jumlah sampel di setiap set untuk verifikasi\n",
        "print(\"--- HASIL PEMBAGIAN DATA ---\")\n",
        "print(f\"Jumlah Sampel Data Latih (X_train): {X_train.shape[0]}\")\n",
        "print(f\"Jumlah Sampel Data Uji (X_test):   {X_test.shape[0]}\")\n",
        "print(f\"Jumlah Label Data Latih (y_train): {y_train.shape[0]}\")\n",
        "print(f\"Jumlah Label Data Uji (y_test):   {y_test.shape[0]}\")"
      ]
    },
    {
      "cell_type": "markdown",
      "metadata": {},
      "source": [
        "### Feature Selection"
      ]
    },
    {
      "cell_type": "markdown",
      "metadata": {},
      "source": [
        "#### Metode yang Digunakan SelectKBest dengan chi2"
      ]
    },
    {
      "cell_type": "markdown",
      "metadata": {},
      "source": [
        "Tahap ini bertujuan memilih fitur (kata) yang paling relevan terhadap label sentimen menggunakan metode **Chi-Square (χ²)**.\n",
        "\n",
        "**Alasan penggunaan:**\n",
        "- Dataset teks setelah diubah menjadi TF-IDF biasanya memiliki ribuan fitur.\n",
        "- Tidak semua kata memberikan kontribusi yang signifikan terhadap prediksi sentimen.\n",
        "- Mengurangi jumlah fitur dapat:\n",
        "  - Mempercepat pelatihan model.\n",
        "  - Mengurangi risiko overfitting.\n",
        "  - Mempertahankan kata-kata yang paling informatif.\n",
        "\n",
        "**Langkah-langkah:**\n",
        "1. **Menentukan jumlah fitur terbaik**  \n",
        "   - Dipilih `k = 2000` fitur teratas berdasarkan skor chi-square.\n",
        "\n",
        "2. **Proses pemilihan fitur**  \n",
        "   - `fit_transform()` dilakukan **hanya pada data latih** (`X_train`) untuk mencegah *data leakage*.  \n",
        "   - Data uji (`X_test`) ditransformasi menggunakan selector yang sama.\n",
        "\n",
        "3. **Hasil akhir**  \n",
        "   - Menampilkan perbandingan dimensi fitur sebelum dan sesudah feature selection.\n",
        "\n",
        "Metode ini membantu model fokus pada kata-kata yang secara statistik paling berkaitan dengan sentimen positif atau negatif.\n"
      ]
    },
    {
      "cell_type": "code",
      "execution_count": 33,
      "metadata": {},
      "outputs": [
        {
          "name": "stdout",
          "output_type": "stream",
          "text": [
            "--- HASIL FEATURE SELECTION ---\n",
            "Dimensi fitur sebelum feature selection: (15478, 9057)\n",
            "Dimensi fitur setelah feature selection: (15478, 2000)\n"
          ]
        }
      ],
      "source": [
        "k = 2000\n",
        "selector = SelectKBest(score_func=chi2, k=k)\n",
        "\n",
        "# Fit selector pada data latih dan transformasikan data latih\n",
        "X_train_selected = selector.fit_transform(X_train, y_train)\n",
        "\n",
        "# Transformasikan data uji menggunakan selector yang sudah di-fit\n",
        "X_test_selected = selector.transform(X_test)\n",
        "\n",
        "print(\"--- HASIL FEATURE SELECTION ---\")\n",
        "print(f\"Dimensi fitur sebelum feature selection: {X_train.shape}\")\n",
        "print(f\"Dimensi fitur setelah feature selection: {X_train_selected.shape}\")"
      ]
    },
    {
      "cell_type": "markdown",
      "metadata": {},
      "source": [
        "#### Visualisasi Fitur Terpilih"
      ]
    },
    {
      "cell_type": "markdown",
      "metadata": {},
      "source": [
        "Tahap ini memvisualisasikan hasil **feature selection** untuk memahami kata-kata mana yang paling berpengaruh dalam menentukan sentimen.\n",
        "\n",
        "1. **Sumber Data Fitur**\n",
        "    - Nama fitur diambil dari *vocabulary* `TfidfVectorizer` (`get_feature_names_out()`).\n",
        "    - Skor Chi-Square diambil dari `selector.scores_` hasil `SelectKBest`.\n",
        "\n",
        "2. **Visualisasi 1 — *Bar Chart* Fitur Paling Relevan**\n",
        "    - Menampilkan **20 kata** dengan skor chi-square tertinggi.\n",
        "    - Skor tinggi menunjukkan kata tersebut memiliki keterkaitan yang kuat dengan label sentimen.\n",
        "    - Warna menggunakan palet `viridis` untuk perbedaan visual yang jelas.\n",
        "\n",
        "3. **Visualisasi 2 — Heatmap Korelasi Antar Fitur Terpilih**\n",
        "    - Mengambil **15 kata teratas** untuk analisis korelasi.\n",
        "    - Korelasi dihitung berdasarkan matriks TF-IDF.\n",
        "    - Nilai mendekati `1.00` → kata sering muncul bersama.  \n",
        "      Nilai mendekati `0` → kata muncul secara independen.\n",
        "    - Heatmap membantu memahami hubungan antar kata penting dalam teks.\n",
        "\n",
        "Visualisasi ini membantu kita tidak hanya memilih fitur yang relevan, tetapi juga melihat apakah beberapa kata saling berasosiasi secara kuat di dalam dataset."
      ]
    },
    {
      "cell_type": "code",
      "execution_count": 37,
      "metadata": {},
      "outputs": [
        {
          "name": "stdout",
          "output_type": "stream",
          "text": [
            "--- Visualisasi 1: Fitur Paling Relevan ---\n"
          ]
        },
        {
          "data": {
            "image/png": "[encoded data removed]",
            "text/plain": [
              "<Figure size 900x600 with 1 Axes>"
            ]
          },
          "metadata": {},
          "output_type": "display_data"
        },
        {
          "name": "stdout",
          "output_type": "stream",
          "text": [
            "\n",
            "--- Visualisasi 2: Korelasi Antar Fitur Terpilih ---\n"
          ]
        },
        {
          "data": {
            "image/png": "[encoded data removed]",
            "text/plain": [
              "<Figure size 900x600 with 2 Axes>"
            ]
          },
          "metadata": {},
          "output_type": "display_data"
        }
      ],
      "source": [
        "# Mengambil nama fitur asli dari vectorizer TF-IDF\n",
        "feature_names = np.array(tfidf.get_feature_names_out())\n",
        "# Mengambil skor dari selector\n",
        "scores = selector.scores_\n",
        "\n",
        "# Membuat DataFrame untuk visualisasi skor\n",
        "scores_df = pd.DataFrame({'Fitur': feature_names, 'Skor Chi2': scores})\n",
        "scores_df = scores_df.sort_values(by='Skor Chi2', ascending=False)\n",
        "\n",
        "# Visualisasi 1: Bar Chart Fitur Paling Relevan\n",
        "# Grafik ini menunjukkan kata-kata mana yang memiliki pengaruh paling kuat terhadap sentimen.\n",
        "print(\"--- Visualisasi 1: Fitur Paling Relevan ---\")\n",
        "plt.figure(figsize=(9, 6))\n",
        "sns.barplot(x='Skor Chi2', y='Fitur', data=scores_df.head(20), palette='viridis')\n",
        "plt.title('Top 20 Fitur dengan Skor Chi2 Tertinggi', fontsize=14)\n",
        "plt.xlabel('Skor Chi2 (Semakin tinggi semakin relevan)', fontsize=12)\n",
        "plt.ylabel('Fitur (Kata)', fontsize=12)\n",
        "plt.show()\n",
        "\n",
        "\n",
        "# Visualisasi 2: Heatmap Korelasi Antar Fitur Terpilih\n",
        "# Heatmap ini menunjukkan apakah kata-kata paling relevan cenderung muncul bersamaan.\n",
        "# Nilai mendekati 1 (warna terang) berarti sering muncul bersama.\n",
        "print(\"\\n--- Visualisasi 2: Korelasi Antar Fitur Terpilih ---\")\n",
        "\n",
        "# Ambil nama dari 15 fitur teratas\n",
        "top_features_names = scores_df.head(15)['Fitur'].tolist()\n",
        "\n",
        "# Dapatkan indeks dari fitur-fitur ini di matriks TF-IDF asli\n",
        "top_features_indices = [list(feature_names).index(name) for name in top_features_names]\n",
        "\n",
        "# Buat DataFrame baru hanya dengan fitur-fitur teratas dari data latih\n",
        "top_features_df = pd.DataFrame(X_train[:, top_features_indices].toarray(), columns=top_features_names)\n",
        "\n",
        "# Hitung matriks korelasi\n",
        "correlation_matrix = top_features_df.corr()\n",
        "\n",
        "# Buat heatmap\n",
        "plt.figure(figsize=(9, 6))\n",
        "sns.heatmap(correlation_matrix, annot=True, cmap='coolwarm', fmt=\".2f\")\n",
        "plt.title('Heatmap Korelasi Antara Top 15 Fitur', fontsize=14)\n",
        "plt.show()\n"
      ]
    },
    {
      "cell_type": "markdown",
      "metadata": {
        "id": "Xg711_CKiEQ9"
      },
      "source": [
        "### Model Training & Evaluation"
      ]
    },
    {
      "cell_type": "markdown",
      "metadata": {},
      "source": [
        "#### Inisialisasi Model Ensemble"
      ]
    },
    {
      "cell_type": "markdown",
      "metadata": {},
      "source": [
        "Tiga model ensemble didefinisikan untuk dibandingkan performanya:\n",
        "- **Random Forest** (*Bagging*): banyak pohon keputusan dibangun paralel pada subset data berbeda.\n",
        "- **XGBoost** (*Gradient Boosting*): pohon dibangun sekuensial untuk memperbaiki kesalahan sebelumnya, akurasi tinggi.\n",
        "- **AdaBoost** (*Adaptive Boosting*): fokus pada sampel yang salah klasifikasi dengan memberi bobot lebih besar di iterasi berikutnya.\n",
        "\n",
        "Semua model disimpan dalam dictionary `models` agar mudah dilatih dan dievaluasi.\n"
      ]
    },
    {
      "cell_type": "code",
      "execution_count": null,
      "metadata": {},
      "outputs": [
        {
          "name": "stdout",
          "output_type": "stream",
          "text": [
            "Tiga model ensemble (Random Forest, XGBoost, AdaBoost) berhasil diinisialisasi.\n",
            "Setiap model siap untuk dilatih dan dievaluasi performanya.\n"
          ]
        }
      ],
      "source": [
        "# Dictionary untuk menyimpan semua model yang akan dibandingkan.\n",
        "models = {\n",
        "    # 1. Random Forest: Pendekatan 'Bagging'\n",
        "    # Membangun banyak decision tree secara paralel pada subset data yang berbeda.\n",
        "    # Hyperparameter ini dipertahankan dari eksperimen sebelumnya untuk performa optimal.\n",
        "    \"Random Forest\": RandomForestClassifier(\n",
        "        n_estimators=300,     \n",
        "        max_depth=None,       \n",
        "        min_samples_split=5,  \n",
        "        min_samples_leaf=2,   \n",
        "        random_state=42        \n",
        "    ),\n",
        "\n",
        "    # 2. XGBoost: Pendekatan 'Gradient Boosting'\n",
        "    # Membangun decision tree secara sekuensial, di mana setiap pohon baru\n",
        "    # belajar dari kesalahan (residual) pohon sebelumnya. Dikenal karena akurasinya yang tinggi.\n",
        "    \"XGBoost\": XGBClassifier(\n",
        "        use_label_encoder=False,\n",
        "        eval_metric='logloss',  \n",
        "        random_state=42\n",
        "    ),\n",
        "\n",
        "    # 3. AdaBoost: Pendekatan 'Adaptive Boosting'\n",
        "    # Mirip dengan boosting, tetapi fokus pada sampel yang salah diklasifikasikan\n",
        "    # dengan memberikan bobot yang lebih tinggi pada iterasi berikutnya.\n",
        "    \"AdaBoost\": AdaBoostClassifier(\n",
        "        n_estimators=100,      \n",
        "        random_state=42\n",
        "    )\n",
        "}\n",
        "\n",
        "# Dictionary kosong untuk menyimpan hasil evaluasi yang detail nanti\n",
        "results = {}\n",
        "\n",
        "print(\"Tiga model ensemble (Random Forest, XGBoost, AdaBoost) berhasil diinisialisasi.\")\n",
        "print(\"Setiap model siap untuk dilatih dan dievaluasi performanya.\")"
      ]
    },
    {
      "cell_type": "markdown",
      "metadata": {},
      "source": [
        "#### Pelatihan & Evaluasi Random Forest"
      ]
    },
    {
      "cell_type": "markdown",
      "metadata": {},
      "source": [
        "Model **Random Forest** dilatih pada fitur terpilih (`X_train_selected`) dan divalidasi dengan **5-Fold Cross-Validation** untuk mengukur konsistensi akurasi.  \n",
        "\n",
        "Metrik yang dievaluasi yaitu akurasi latih & uji, precision, recall, F1-score, dan ROC-AUC. Kemudian saya juga menambahkan pengukuran waktu pelatihan dan prediksi untuk analisis efisiensi."
      ]
    },
    {
      "cell_type": "code",
      "execution_count": null,
      "metadata": {},
      "outputs": [
        {
          "name": "stdout",
          "output_type": "stream",
          "text": [
            "--- Memulai Pelatihan dan Evaluasi untuk Random Forest ---\n",
            "Menjalankan 5-Fold Cross-Validation...\n",
            "Akurasi Cross-Validation: 0.9207 (+/- 0.0072)\n",
            "\n",
            "Laporan Klasifikasi untuk Random Forest (pada data uji):\n",
            "              precision    recall  f1-score   support\n",
            "\n",
            "     negatif       0.80      0.82      0.81       778\n",
            "     positif       0.96      0.95      0.95      3092\n",
            "\n",
            "    accuracy                           0.92      3870\n",
            "   macro avg       0.88      0.89      0.88      3870\n",
            "weighted avg       0.92      0.92      0.92      3870\n",
            "\n",
            "Waktu Pelatihan: 4.97 detik\n",
            "Waktu Prediksi: 0.3593 detik\n"
          ]
        }
      ],
      "source": [
        "# Pelatihan dan Evaluasi Random Forest\n",
        "# Mengambil model Random Forest dari dictionary\n",
        "model_name = \"Random Forest\"\n",
        "model = models[model_name]\n",
        "\n",
        "print(f\"--- Memulai Pelatihan dan Evaluasi untuk {model_name} ---\")\n",
        "\n",
        "# --- Pengukuran Waktu Pelatihan ---\n",
        "start_time_train = time.time()\n",
        "model.fit(X_train_selected, y_train)\n",
        "end_time_train = time.time()\n",
        "training_time = end_time_train - start_time_train\n",
        "\n",
        "# --- Validasi Silang (Cross-Validation) ---\n",
        "print(\"Menjalankan 5-Fold Cross-Validation...\")\n",
        "cv_scores = cross_val_score(model, X_train_selected, y_train, cv=5, scoring='accuracy')\n",
        "print(f\"Akurasi Cross-Validation: {cv_scores.mean():.4f} (+/- {cv_scores.std()*2:.4f})\")\n",
        "\n",
        "# --- Pengukuran Waktu Prediksi ---\n",
        "start_time_pred = time.time()\n",
        "y_pred_rf = model.predict(X_test_selected)\n",
        "end_time_pred = time.time()\n",
        "prediction_time = end_time_pred - start_time_pred\n",
        "\n",
        "y_prob_rf = model.predict_proba(X_test_selected)[:, 1]\n",
        "\n",
        "# --- Menghitung Metrik ---\n",
        "train_accuracy = model.score(X_train_selected, y_train)\n",
        "test_accuracy = accuracy_score(y_test, y_pred_rf)\n",
        "precision = precision_score(y_test, y_pred_rf)\n",
        "recall = recall_score(y_test, y_pred_rf)\n",
        "f1 = f1_score(y_test, y_pred_rf)\n",
        "roc_auc = roc_auc_score(y_test, y_prob_rf)\n",
        "\n",
        "# --- Simpan Hasil ---\n",
        "results[model_name] = {\n",
        "    \"Akurasi Latih\": train_accuracy,\n",
        "    \"Akurasi Uji\": test_accuracy,\n",
        "    \"Akurasi CV (Mean)\": cv_scores.mean(),\n",
        "    \"Precision\": precision,\n",
        "    \"Recall\": recall,\n",
        "    \"F1-Score\": f1,\n",
        "    \"ROC-AUC\": roc_auc,\n",
        "    \"Waktu Latih (s)\": training_time,\n",
        "    \"Waktu Prediksi (s)\": prediction_time\n",
        "}\n",
        "\n",
        "# --- Tampilkan Laporan ---\n",
        "print(f\"\\nLaporan Klasifikasi untuk {model_name} (pada data uji):\")\n",
        "print(classification_report(y_test, y_pred_rf, target_names=['negatif', 'positif']))\n",
        "print(f\"Waktu Pelatihan: {training_time:.2f} detik\")\n",
        "print(f\"Waktu Prediksi: {prediction_time:.4f} detik\")"
      ]
    },
    {
      "cell_type": "markdown",
      "metadata": {},
      "source": [
        "#### Pelatihan & Evaluasi XGBoost"
      ]
    },
    {
      "cell_type": "markdown",
      "metadata": {},
      "source": [
        "Model **XGBoost** dilatih pada fitur terpilih (`X_train_selected`) dan divalidasi menggunakan **5-Fold Cross-Validation** untuk menguji stabilitas performa.  \n",
        "\n",
        "Metrik yang dievaluasi yaitu akurasi latih & uji, precision, recall, F1-score, dan ROC-AUC. Kemudian saya juga menambahkan pengukuran waktu pelatihan dan prediksi untuk analisis efisiensi."
      ]
    },
    {
      "cell_type": "code",
      "execution_count": 43,
      "metadata": {},
      "outputs": [
        {
          "name": "stdout",
          "output_type": "stream",
          "text": [
            "--- Memulai Pelatihan dan Evaluasi untuk XGBoost ---\n",
            "Menjalankan 5-Fold Cross-Validation...\n",
            "Akurasi Cross-Validation: 0.9190 (+/- 0.0085)\n",
            "\n",
            "Laporan Klasifikasi untuk XGBoost (pada data uji):\n",
            "              precision    recall  f1-score   support\n",
            "\n",
            "     negatif       0.84      0.74      0.78       778\n",
            "     positif       0.94      0.96      0.95      3092\n",
            "\n",
            "    accuracy                           0.92      3870\n",
            "   macro avg       0.89      0.85      0.87      3870\n",
            "weighted avg       0.92      0.92      0.92      3870\n",
            "\n",
            "Waktu Pelatihan: 0.66 detik\n",
            "Waktu Prediksi: 0.0100 detik\n"
          ]
        }
      ],
      "source": [
        "# Pelatihan dan Evaluasi XGBoost\n",
        "# Mengambil model XGBoost dari dictionary\n",
        "model_name = \"XGBoost\"\n",
        "model = models[model_name]\n",
        "\n",
        "print(f\"--- Memulai Pelatihan dan Evaluasi untuk {model_name} ---\")\n",
        "\n",
        "# --- Pengukuran Waktu Pelatihan ---\n",
        "start_time_train = time.time()\n",
        "model.fit(X_train_selected, y_train)\n",
        "end_time_train = time.time()\n",
        "training_time = end_time_train - start_time_train\n",
        "\n",
        "# --- Validasi Silang (Cross-Validation) ---\n",
        "print(\"Menjalankan 5-Fold Cross-Validation...\")\n",
        "cv_scores = cross_val_score(model, X_train_selected, y_train, cv=5, scoring='accuracy')\n",
        "print(f\"Akurasi Cross-Validation: {cv_scores.mean():.4f} (+/- {cv_scores.std()*2:.4f})\")\n",
        "\n",
        "# --- Pengukuran Waktu Prediksi ---\n",
        "start_time_pred = time.time()\n",
        "y_pred_xgb = model.predict(X_test_selected)\n",
        "end_time_pred = time.time()\n",
        "prediction_time = end_time_pred - start_time_pred\n",
        "\n",
        "y_prob_xgb = model.predict_proba(X_test_selected)[:, 1]\n",
        "\n",
        "# --- Menghitung Metrik ---\n",
        "train_accuracy = model.score(X_train_selected, y_train)\n",
        "test_accuracy = accuracy_score(y_test, y_pred_xgb)\n",
        "precision = precision_score(y_test, y_pred_xgb)\n",
        "recall = recall_score(y_test, y_pred_xgb)\n",
        "f1 = f1_score(y_test, y_pred_xgb)\n",
        "roc_auc = roc_auc_score(y_test, y_prob_xgb)\n",
        "\n",
        "# --- Simpan Hasil ---\n",
        "results[model_name] = {\n",
        "    \"Akurasi Latih\": train_accuracy,\n",
        "    \"Akurasi Uji\": test_accuracy,\n",
        "    \"Akurasi CV (Mean)\": cv_scores.mean(),\n",
        "    \"Precision\": precision,\n",
        "    \"Recall\": recall,\n",
        "    \"F1-Score\": f1,\n",
        "    \"ROC-AUC\": roc_auc,\n",
        "    \"Waktu Latih (s)\": training_time,\n",
        "    \"Waktu Prediksi (s)\": prediction_time\n",
        "}\n",
        "\n",
        "# --- Tampilkan Laporan ---\n",
        "print(f\"\\nLaporan Klasifikasi untuk {model_name} (pada data uji):\")\n",
        "print(classification_report(y_test, y_pred_xgb, target_names=['negatif', 'positif']))\n",
        "print(f\"Waktu Pelatihan: {training_time:.2f} detik\")\n",
        "print(f\"Waktu Prediksi: {prediction_time:.4f} detik\")"
      ]
    },
    {
      "cell_type": "markdown",
      "metadata": {},
      "source": [
        "#### Pelatihan & Evaluasi AdaBoost"
      ]
    },
    {
      "cell_type": "markdown",
      "metadata": {},
      "source": [
        "Model **AdaBoost** dilatih pada fitur terpilih (`X_train_selected`) dan divalidasi menggunakan **5-Fold Cross-Validation** untuk menilai konsistensi performa.  \n",
        "\n",
        "Metrik yang dievaluasi mencakup akurasi latih & uji, precision, recall, F1-score, dan ROC-AUC. Kemudian saya juga menambahkan pengukuran waktu pelatihan dan prediksi untuk membandingkan efisiensi model dengan Random Forest dan XGBoost.\n"
      ]
    },
    {
      "cell_type": "code",
      "execution_count": 44,
      "metadata": {},
      "outputs": [
        {
          "name": "stdout",
          "output_type": "stream",
          "text": [
            "--- Memulai Pelatihan dan Evaluasi untuk AdaBoost ---\n",
            "Menjalankan 5-Fold Cross-Validation...\n",
            "Akurasi Cross-Validation: 0.8477 (+/- 0.0070)\n",
            "\n",
            "Laporan Klasifikasi untuk AdaBoost (pada data uji):\n",
            "              precision    recall  f1-score   support\n",
            "\n",
            "     negatif       0.78      0.33      0.47       778\n",
            "     positif       0.85      0.98      0.91      3092\n",
            "\n",
            "    accuracy                           0.85      3870\n",
            "   macro avg       0.81      0.65      0.69      3870\n",
            "weighted avg       0.84      0.85      0.82      3870\n",
            "\n",
            "Waktu Pelatihan: 1.08 detik\n",
            "Waktu Prediksi: 0.0651 detik\n"
          ]
        }
      ],
      "source": [
        "# Pelatihan dan Evaluasi AdaBoost\n",
        "# Mengambil model AdaBoost dari dictionary\n",
        "model_name = \"AdaBoost\"\n",
        "model = models[model_name]\n",
        "\n",
        "print(f\"--- Memulai Pelatihan dan Evaluasi untuk {model_name} ---\")\n",
        "\n",
        "# --- Pengukuran Waktu Pelatihan ---\n",
        "start_time_train = time.time()\n",
        "model.fit(X_train_selected, y_train)\n",
        "end_time_train = time.time()\n",
        "training_time = end_time_train - start_time_train\n",
        "\n",
        "# --- Validasi Silang (Cross-Validation) ---\n",
        "print(\"Menjalankan 5-Fold Cross-Validation...\")\n",
        "cv_scores = cross_val_score(model, X_train_selected, y_train, cv=5, scoring='accuracy')\n",
        "print(f\"Akurasi Cross-Validation: {cv_scores.mean():.4f} (+/- {cv_scores.std()*2:.4f})\")\n",
        "\n",
        "# --- Pengukuran Waktu Prediksi ---\n",
        "start_time_pred = time.time()\n",
        "y_pred_ada = model.predict(X_test_selected)\n",
        "end_time_pred = time.time()\n",
        "prediction_time = end_time_pred - start_time_pred\n",
        "\n",
        "y_prob_ada = model.predict_proba(X_test_selected)[:, 1]\n",
        "\n",
        "# --- Menghitung Metrik ---\n",
        "train_accuracy = model.score(X_train_selected, y_train)\n",
        "test_accuracy = accuracy_score(y_test, y_pred_ada)\n",
        "precision = precision_score(y_test, y_pred_ada)\n",
        "recall = recall_score(y_test, y_pred_ada)\n",
        "f1 = f1_score(y_test, y_pred_ada)\n",
        "roc_auc = roc_auc_score(y_test, y_prob_ada)\n",
        "\n",
        "# --- Simpan Hasil ---\n",
        "results[model_name] = {\n",
        "    \"Akurasi Latih\": train_accuracy,\n",
        "    \"Akurasi Uji\": test_accuracy,\n",
        "    \"Akurasi CV (Mean)\": cv_scores.mean(),\n",
        "    \"Precision\": precision,\n",
        "    \"Recall\": recall,\n",
        "    \"F1-Score\": f1,\n",
        "    \"ROC-AUC\": roc_auc,\n",
        "    \"Waktu Latih (s)\": training_time,\n",
        "    \"Waktu Prediksi (s)\": prediction_time\n",
        "}\n",
        "\n",
        "# --- Tampilkan Laporan ---\n",
        "print(f\"\\nLaporan Klasifikasi untuk {model_name} (pada data uji):\")\n",
        "print(classification_report(y_test, y_pred_ada, target_names=['negatif', 'positif']))\n",
        "print(f\"Waktu Pelatihan: {training_time:.2f} detik\")\n",
        "print(f\"Waktu Prediksi: {prediction_time:.4f} detik\")"
      ]
    },
    {
      "cell_type": "markdown",
      "metadata": {},
      "source": [
        "#### Komparasi Hasil Evaluasi Komparatif Model"
      ]
    },
    {
      "cell_type": "markdown",
      "metadata": {},
      "source": [
        "Pada tahap ini, seluruh model **Random Forest**, **XGBoost**, dan **AdaBoost** yang sudah dilatih dan diuji \n",
        "akan dibandingkan secara langsung berdasarkan metrik-metrik evaluasi berikut:\n",
        "\n",
        "- **Akurasi (Accuracy)** → Persentase prediksi benar dari total data uji.  \n",
        "- **Precision** → Persentase prediksi positif yang benar-benar positif (mengukur ketepatan).  \n",
        "- **Recall** → Persentase data positif yang berhasil terdeteksi model (mengukur kelengkapan).  \n",
        "- **F1-Score** → Rata-rata harmonis dari Precision dan Recall, baik untuk data tidak seimbang.  \n",
        "- **ROC-AUC** → Luas area di bawah kurva ROC; mengukur kemampuan model membedakan kelas.  \n",
        "- **Waktu Latih (s)** → Durasi yang dibutuhkan model untuk proses pelatihan pada data latih.  \n",
        "- **Waktu Prediksi (s)** → Durasi yang dibutuhkan model untuk melakukan prediksi pada data uji.  "
      ]
    },
    {
      "cell_type": "code",
      "execution_count": 47,
      "metadata": {},
      "outputs": [
        {
          "name": "stdout",
          "output_type": "stream",
          "text": [
            "--- Tabel Perbandingan Performa Model ---\n"
          ]
        },
        {
          "data": {
            "text/html": [
              "<div>\n",
              "<style scoped>\n",
              "    .dataframe tbody tr th:only-of-type {\n",
              "        vertical-align: middle;\n",
              "    }\n",
              "\n",
              "    .dataframe tbody tr th {\n",
              "        vertical-align: top;\n",
              "    }\n",
              "\n",
              "    .dataframe thead th {\n",
              "        text-align: right;\n",
              "    }\n",
              "</style>\n",
              "<table border=\"1\" class=\"dataframe\">\n",
              "  <thead>\n",
              "    <tr style=\"text-align: right;\">\n",
              "      <th></th>\n",
              "      <th>Akurasi</th>\n",
              "      <th>Precision</th>\n",
              "      <th>Recall</th>\n",
              "      <th>F1-Score</th>\n",
              "      <th>ROC-AUC</th>\n",
              "      <th>Waktu Latih (s)</th>\n",
              "      <th>Waktu Prediksi (s)</th>\n",
              "    </tr>\n",
              "  </thead>\n",
              "  <tbody>\n",
              "    <tr>\n",
              "      <th>Random Forest</th>\n",
              "      <td>0.9238</td>\n",
              "      <td>0.9554</td>\n",
              "      <td>0.9489</td>\n",
              "      <td>0.9521</td>\n",
              "      <td>0.9640</td>\n",
              "      <td>4.9700</td>\n",
              "      <td>0.3593</td>\n",
              "    </tr>\n",
              "    <tr>\n",
              "      <th>XGBoost</th>\n",
              "      <td>0.9183</td>\n",
              "      <td>0.9359</td>\n",
              "      <td>0.9638</td>\n",
              "      <td>0.9496</td>\n",
              "      <td>0.9596</td>\n",
              "      <td>0.6610</td>\n",
              "      <td>0.0100</td>\n",
              "    </tr>\n",
              "    <tr>\n",
              "      <th>AdaBoost</th>\n",
              "      <td>0.8465</td>\n",
              "      <td>0.8532</td>\n",
              "      <td>0.9757</td>\n",
              "      <td>0.9104</td>\n",
              "      <td>0.8982</td>\n",
              "      <td>1.0768</td>\n",
              "      <td>0.0651</td>\n",
              "    </tr>\n",
              "  </tbody>\n",
              "</table>\n",
              "</div>"
            ],
            "text/plain": [
              "               Akurasi  Precision  Recall  F1-Score  ROC-AUC  Waktu Latih (s)  \\\n",
              "Random Forest   0.9238     0.9554  0.9489    0.9521   0.9640           4.9700   \n",
              "XGBoost         0.9183     0.9359  0.9638    0.9496   0.9596           0.6610   \n",
              "AdaBoost        0.8465     0.8532  0.9757    0.9104   0.8982           1.0768   \n",
              "\n",
              "               Waktu Prediksi (s)  \n",
              "Random Forest              0.3593  \n",
              "XGBoost                    0.0100  \n",
              "AdaBoost                   0.0651  "
            ]
          },
          "metadata": {},
          "output_type": "display_data"
        }
      ],
      "source": [
        "# Hasil Evaluasi Komparatif\n",
        "# Mengonversi dictionary hasil menjadi DataFrame pandas\n",
        "results_df = pd.DataFrame(results).T\n",
        "\n",
        "# Mengganti nama kolom 'Akurasi Uji' menjadi 'Akurasi' agar sesuai\n",
        "results_df = results_df.rename(columns={'Akurasi Uji': 'Akurasi'})\n",
        "\n",
        "# Memilih dan mengatur urutan kolom sesuai dengan format berikut\n",
        "report_table = results_df[['Akurasi', 'Precision', 'Recall', 'F1-Score', 'ROC-AUC', 'Waktu Latih (s)', 'Waktu Prediksi (s)']].copy()\n",
        "\n",
        "# Mengatur format angka menjadi 4 desimal agar konsisten\n",
        "pd.options.display.float_format = '{:.4f}'.format\n",
        "\n",
        "# Menampilkan tabel hasil akhir\n",
        "print(\"--- Tabel Perbandingan Performa Model ---\")\n",
        "display(report_table)"
      ]
    },
    {
      "cell_type": "markdown",
      "metadata": {},
      "source": [
        "#### Penentuan Model Terbaik"
      ]
    },
    {
      "cell_type": "markdown",
      "metadata": {},
      "source": [
        "Pada tahap ini, setiap model diberi **peringkat** berdasarkan nilai lima metrik evaluasi.  \n",
        "Model dengan nilai tertinggi pada suatu metrik mendapat peringkat 1, berikutnya peringkat 2, dan seterusnya.  \n",
        "\n",
        "Selanjutnya, semua peringkat dijumlahkan menjadi **Total Rank**.  \n",
        "**Model terbaik** adalah model dengan **Total Rank terkecil**, karena artinya model tersebut konsisten unggul di banyak metrik sekaligus."
      ]
    },
    {
      "cell_type": "code",
      "execution_count": null,
      "metadata": {},
      "outputs": [
        {
          "name": "stdout",
          "output_type": "stream",
          "text": [
            "\n",
            "--- Tabel Peringkat Model Berdasarkan Semua Metrik ---\n"
          ]
        },
        {
          "data": {
            "text/html": [
              "<div>\n",
              "<style scoped>\n",
              "    .dataframe tbody tr th:only-of-type {\n",
              "        vertical-align: middle;\n",
              "    }\n",
              "\n",
              "    .dataframe tbody tr th {\n",
              "        vertical-align: top;\n",
              "    }\n",
              "\n",
              "    .dataframe thead th {\n",
              "        text-align: right;\n",
              "    }\n",
              "</style>\n",
              "<table border=\"1\" class=\"dataframe\">\n",
              "  <thead>\n",
              "    <tr style=\"text-align: right;\">\n",
              "      <th></th>\n",
              "      <th>Akurasi Rank</th>\n",
              "      <th>Precision Rank</th>\n",
              "      <th>Recall Rank</th>\n",
              "      <th>F1-Score Rank</th>\n",
              "      <th>ROC-AUC Rank</th>\n",
              "      <th>Total Rank</th>\n",
              "    </tr>\n",
              "  </thead>\n",
              "  <tbody>\n",
              "    <tr>\n",
              "      <th>Random Forest</th>\n",
              "      <td>1.0000</td>\n",
              "      <td>1.0000</td>\n",
              "      <td>3.0000</td>\n",
              "      <td>1.0000</td>\n",
              "      <td>1.0000</td>\n",
              "      <td>7.0000</td>\n",
              "    </tr>\n",
              "    <tr>\n",
              "      <th>XGBoost</th>\n",
              "      <td>2.0000</td>\n",
              "      <td>2.0000</td>\n",
              "      <td>2.0000</td>\n",
              "      <td>2.0000</td>\n",
              "      <td>2.0000</td>\n",
              "      <td>10.0000</td>\n",
              "    </tr>\n",
              "    <tr>\n",
              "      <th>AdaBoost</th>\n",
              "      <td>3.0000</td>\n",
              "      <td>3.0000</td>\n",
              "      <td>1.0000</td>\n",
              "      <td>3.0000</td>\n",
              "      <td>3.0000</td>\n",
              "      <td>13.0000</td>\n",
              "    </tr>\n",
              "  </tbody>\n",
              "</table>\n",
              "</div>"
            ],
            "text/plain": [
              "               Akurasi Rank  Precision Rank  Recall Rank  F1-Score Rank  \\\n",
              "Random Forest        1.0000          1.0000       3.0000         1.0000   \n",
              "XGBoost              2.0000          2.0000       2.0000         2.0000   \n",
              "AdaBoost             3.0000          3.0000       1.0000         3.0000   \n",
              "\n",
              "               ROC-AUC Rank  Total Rank  \n",
              "Random Forest        1.0000      7.0000  \n",
              "XGBoost              2.0000     10.0000  \n",
              "AdaBoost             3.0000     13.0000  "
            ]
          },
          "metadata": {},
          "output_type": "display_data"
        },
        {
          "name": "stdout",
          "output_type": "stream",
          "text": [
            "\n",
            "Model terbaik berdasarkan sistem ranking dengan jumlah poin terkecil sebagai pemenang adalah Random Forest\n"
          ]
        }
      ],
      "source": [
        "# Menentukan Model Terbaik Menggunakan Sistem Peringkat\n",
        "\n",
        "# 1. Buat DataFrame baru untuk menyimpan peringkat\n",
        "rank_df = pd.DataFrame()\n",
        "\n",
        "# 2. Hitung peringkat untuk setiap metrik (nilai lebih tinggi = peringkat 1)\n",
        "metrics_to_rank = ['Akurasi', 'Precision', 'Recall', 'F1-Score', 'ROC-AUC']\n",
        "for metric in metrics_to_rank:\n",
        "    rank_df[f'{metric} Rank'] = report_table[metric].rank(ascending=False)\n",
        "\n",
        "# 3. Jumlahkan peringkat untuk mendapatkan skor total (skor lebih rendah = lebih baik)\n",
        "rank_df['Total Rank'] = rank_df.sum(axis=1)\n",
        "\n",
        "# 4. Urutkan berdasarkan Total Rank untuk menemukan model terbaik\n",
        "sorted_ranks = rank_df.sort_values(by='Total Rank', ascending=True)\n",
        "\n",
        "# 5. Mengambil nama model terbaik dari baris pertama tabel yang sudah diurutkan\n",
        "best_model_name = sorted_ranks.index[0]\n",
        "\n",
        "# Menampilkan tabel peringkat untuk justifikasi\n",
        "print(\"\\n--- Tabel Peringkat Model Berdasarkan Semua Metrik ---\")\n",
        "display(sorted_ranks)\n",
        "\n",
        "print(f\"\\nModel terbaik berdasarkan sistem ranking dengan jumlah poin terkecil sebagai pemenang adalah {best_model_name}\")"
      ]
    },
    {
      "cell_type": "markdown",
      "metadata": {},
      "source": [
        "#### Menyimpan Artefak Model Terbaik"
      ]
    },
    {
      "cell_type": "markdown",
      "metadata": {},
      "source": [
        "Setelah model terbaik ditentukan, langkah ini menyimpan tiga komponen penting:\n",
        "1. **Model Terbaik** – hasil pelatihan yang siap digunakan untuk prediksi.\n",
        "2. **TF-IDF Vectorizer** – alat untuk mengubah teks mentah menjadi representasi numerik.\n",
        "3. **Feature Selector** – memilih fitur-fitur paling relevan dari data.\n",
        "\n",
        "Semua artefak disimpan dalam format `.pkl` agar dapat dimuat kembali tanpa perlu melatih ulang.\n"
      ]
    },
    {
      "cell_type": "code",
      "execution_count": 51,
      "metadata": {},
      "outputs": [
        {
          "name": "stdout",
          "output_type": "stream",
          "text": [
            "\n",
            "Artefak untuk model 'Random Forest' berhasil disimpan:\n",
            "- Model terbaik disimpan di ../Models/best_ensemble_model.pkl\n",
            "- Vectorizer TF-IDF disimpan di ../Models/tfidf_vectorizer.pkl\n",
            "- Feature Selector disimpan di ../Models/feature_selector.pkl\n"
          ]
        }
      ],
      "source": [
        "# Menyimpan Artefak Berdasarkan Model Terbaik yang Telah Ditentukan\n",
        "# Mengambil objek model terbaik dari dictionary 'models'\n",
        "best_model = models[best_model_name]\n",
        "\n",
        "# Menyimpan model terbaik, vectorizer, dan feature selector menggunakan pickle\n",
        "with open(\"../Models/best_ensemble_model.pkl\", \"wb\") as f:\n",
        "    pickle.dump(best_model, f)\n",
        "\n",
        "with open(\"../Models/tfidf_vectorizer.pkl\", \"wb\") as f:\n",
        "    pickle.dump(tfidf, f)\n",
        "\n",
        "with open(\"../Models/feature_selector.pkl\", \"wb\") as f:\n",
        "    pickle.dump(selector, f)\n",
        "\n",
        "print(f\"\\nArtefak untuk model '{best_model_name}' berhasil disimpan:\")\n",
        "print(\"- Model terbaik disimpan di ../Models/best_ensemble_model.pkl\")\n",
        "print(\"- Vectorizer TF-IDF disimpan di ../Models/tfidf_vectorizer.pkl\")\n",
        "print(\"- Feature Selector disimpan di ../Models/feature_selector.pkl\")"
      ]
    },
    {
      "cell_type": "markdown",
      "metadata": {},
      "source": [
        "#### Menyimpan Daftar Library (requirements.txt)"
      ]
    },
    {
      "cell_type": "markdown",
      "metadata": {},
      "source": [
        "Langkah ini membuat file `requirements.txt` berisi **daftar lengkap library dan versinya**  \n",
        "yang digunakan di lingkungan kerja saat ini untuk memudahkan dibuat di perangkat lain atau saat deployment."
      ]
    },
    {
      "cell_type": "code",
      "execution_count": null,
      "metadata": {},
      "outputs": [
        {
          "name": "stdout",
          "output_type": "stream",
          "text": [
            "File requirements.txt berhasil dibuat.\n"
          ]
        }
      ],
      "source": [
        "# Menyimpan Semua Library ke dalam File requirements.txt\n",
        "!pip freeze > ../requirements.txt\n",
        "print(\"File requirements.txt berhasil dibuat.\")"
      ]
    }
  ],
  "metadata": {
    "accelerator": "GPU",
    "colab": {
      "gpuType": "T4",
      "provenance": []
    },
    "kernelspec": {
      "display_name": "Python 3",
      "name": "python3"
    },
    "language_info": {
      "codemirror_mode": {
        "name": "ipython",
        "version": 3
      },
      "file_extension": ".py",
      "mimetype": "text/x-python",
      "name": "python",
      "nbconvert_exporter": "python",
      "pygments_lexer": "ipython3",
      "version": "3.10.9"
    }
  },
  "nbformat": 4,
  "nbformat_minor": 0
}
